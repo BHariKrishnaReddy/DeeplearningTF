{
  "nbformat": 4,
  "nbformat_minor": 0,
  "metadata": {
    "colab": {
      "name": "ANN with keras.ipynb",
      "provenance": [],
      "toc_visible": true,
      "authorship_tag": "ABX9TyMQOhzhYwXlIM68v8/C6NZw",
      "include_colab_link": true
    },
    "kernelspec": {
      "name": "python3",
      "display_name": "Python 3"
    },
    "language_info": {
      "name": "python"
    }
  },
  "cells": [
    {
      "cell_type": "markdown",
      "metadata": {
        "id": "view-in-github",
        "colab_type": "text"
      },
      "source": [
        "<a href=\"https://colab.research.google.com/github/BHariKrishnaReddy/DeeplearningTF/blob/main/ANN_with_keras_updated.ipynb\" target=\"_parent\"><img src=\"https://colab.research.google.com/assets/colab-badge.svg\" alt=\"Open In Colab\"/></a>"
      ]
    },
    {
      "cell_type": "code",
      "source": [
        "import tensorflow as tf\n",
        "from tensorflow import keras"
      ],
      "metadata": {
        "id": "VatVLkVSeHAd"
      },
      "execution_count": 2,
      "outputs": []
    },
    {
      "cell_type": "code",
      "source": [
        "fashion_mnist = keras.datasets.fashion_mnist\n",
        "(X_train_full, y_train_full), (X_test, y_test) = fashion_mnist.load_data()"
      ],
      "metadata": {
        "colab": {
          "base_uri": "https://localhost:8080/"
        },
        "id": "Q1wh3Cf6wIpS",
        "outputId": "8d7e311a-ffcb-47f5-e6b3-a9c2657d9d17"
      },
      "execution_count": null,
      "outputs": [
        {
          "output_type": "stream",
          "name": "stdout",
          "text": [
            "Downloading data from https://storage.googleapis.com/tensorflow/tf-keras-datasets/train-labels-idx1-ubyte.gz\n",
            "32768/29515 [=================================] - 0s 0us/step\n",
            "40960/29515 [=========================================] - 0s 0us/step\n",
            "Downloading data from https://storage.googleapis.com/tensorflow/tf-keras-datasets/train-images-idx3-ubyte.gz\n",
            "26427392/26421880 [==============================] - 0s 0us/step\n",
            "26435584/26421880 [==============================] - 0s 0us/step\n",
            "Downloading data from https://storage.googleapis.com/tensorflow/tf-keras-datasets/t10k-labels-idx1-ubyte.gz\n",
            "16384/5148 [===============================================================================================] - 0s 0us/step\n",
            "Downloading data from https://storage.googleapis.com/tensorflow/tf-keras-datasets/t10k-images-idx3-ubyte.gz\n",
            "4423680/4422102 [==============================] - 0s 0us/step\n",
            "4431872/4422102 [==============================] - 0s 0us/step\n"
          ]
        }
      ]
    },
    {
      "cell_type": "code",
      "source": [
        "X_train_full.shape,y_train_full.shape,X_test.shape, y_test.shape"
      ],
      "metadata": {
        "colab": {
          "base_uri": "https://localhost:8080/"
        },
        "id": "OIEl95X9w7rC",
        "outputId": "6a4e5e83-4fb1-4dec-abe8-bc90fe2aa459"
      },
      "execution_count": null,
      "outputs": [
        {
          "output_type": "execute_result",
          "data": {
            "text/plain": [
              "((60000, 28, 28), (60000,), (10000, 28, 28), (10000,))"
            ]
          },
          "metadata": {},
          "execution_count": 3
        }
      ]
    },
    {
      "cell_type": "code",
      "source": [
        "X_valid, X_train = X_train_full[:5000] / 255.0, X_train_full[5000:] / 255.0\n",
        "y_valid, y_train = y_train_full[:5000], y_train_full[5000:]\n",
        "X_test = X_test / 255.0"
      ],
      "metadata": {
        "id": "EHVduk7lxIL4"
      },
      "execution_count": null,
      "outputs": []
    },
    {
      "cell_type": "code",
      "source": [
        "class_names = [\"T-shirt/top\", \"Trouser\", \"Pullover\", \"Dress\", \"Coat\",\"Sandal\", \"Shirt\", \"Sneaker\", \"Bag\", \"Ankle boot\"]"
      ],
      "metadata": {
        "id": "vwHkK_n1x4iI"
      },
      "execution_count": null,
      "outputs": []
    },
    {
      "cell_type": "code",
      "source": [
        "class_names[y_train[0]]"
      ],
      "metadata": {
        "colab": {
          "base_uri": "https://localhost:8080/",
          "height": 35
        },
        "id": "fHN-JHVrydwg",
        "outputId": "5ba6d900-327d-4d39-a429-4d65b9960c2f"
      },
      "execution_count": null,
      "outputs": [
        {
          "output_type": "execute_result",
          "data": {
            "application/vnd.google.colaboratory.intrinsic+json": {
              "type": "string"
            },
            "text/plain": [
              "'Coat'"
            ]
          },
          "metadata": {},
          "execution_count": 6
        }
      ]
    },
    {
      "cell_type": "markdown",
      "source": [
        "### Creating the model using the Sequential API\n",
        "Now let’s build the neural network! Here is a classification MLP with two hidden layers:\n",
        "* The sequential API allows you to create models layer-by-layer for most problems. It is limited in that it does not allow you to create models that share layers or have multiple inputs or outputs."
      ],
      "metadata": {
        "id": "llrOCSmsysvw"
      }
    },
    {
      "cell_type": "code",
      "source": [
        "# creates a Sequential model & neural networks that are just composed of a single stack of layers connected sequentially\n",
        "model = keras.models.Sequential()\n",
        "\n",
        "# First Layer\n",
        "# Flatten layer whose role is to convert each input image into a 1D array: if it receives input data X, it computes X.reshape(-1, 28*28)\n",
        "model.add(keras.layers.Flatten(input_shape=[28, 28]))\n",
        "\n",
        "# Dense hidden layer with 300 neurons. It will use the ReLU activation function\n",
        "model.add(keras.layers.Dense(300, activation=\"relu\"))\n",
        "model.add(keras.layers.Dense(100, activation=\"relu\"))\n",
        "\n",
        "# Dense output layer with 10 neurons (one per class), using the softmax activation function\n",
        "model.add(keras.layers.Dense(10, activation=\"softmax\"))\n",
        "\n",
        "#the above set of code can be ..\n",
        "'''\n",
        "model = keras.models.Sequential([\n",
        "    keras.layers.Flatten(input_shape=[28, 28]),\n",
        "    keras.layers.Dense(300, activation=\"relu\"),\n",
        "    keras.layers.Dense(100, activation=\"relu\"),\n",
        "    keras.layers.Dense(10, activation=\"softmax\")\n",
        "])\n",
        "\n",
        "'''"
      ],
      "metadata": {
        "colab": {
          "base_uri": "https://localhost:8080/",
          "height": 52
        },
        "id": "Um6SeE7myiCR",
        "outputId": "6f413240-cbd0-4eb1-e9db-8ce9b7f698cd"
      },
      "execution_count": null,
      "outputs": [
        {
          "output_type": "execute_result",
          "data": {
            "application/vnd.google.colaboratory.intrinsic+json": {
              "type": "string"
            },
            "text/plain": [
              "'\\nmodel = keras.models.Sequential([\\n    keras.layers.Flatten(input_shape=[28, 28]),\\n    keras.layers.Dense(300, activation=\"relu\"),\\n    keras.layers.Dense(100, activation=\"relu\"),\\n    keras.layers.Dense(10, activation=\"softmax\")\\n])\\n\\n'"
            ]
          },
          "metadata": {},
          "execution_count": 7
        }
      ]
    },
    {
      "cell_type": "code",
      "source": [
        "model.summary()"
      ],
      "metadata": {
        "colab": {
          "base_uri": "https://localhost:8080/"
        },
        "id": "vidc4ZNJ3M3H",
        "outputId": "afdb5b61-e053-45d0-b908-d3aae4d146b4"
      },
      "execution_count": null,
      "outputs": [
        {
          "output_type": "stream",
          "name": "stdout",
          "text": [
            "Model: \"sequential\"\n",
            "_________________________________________________________________\n",
            " Layer (type)                Output Shape              Param #   \n",
            "=================================================================\n",
            " flatten (Flatten)           (None, 784)               0         \n",
            "                                                                 \n",
            " dense (Dense)               (None, 300)               235500    \n",
            "                                                                 \n",
            " dense_1 (Dense)             (None, 100)               30100     \n",
            "                                                                 \n",
            " dense_2 (Dense)             (None, 10)                1010      \n",
            "                                                                 \n",
            "=================================================================\n",
            "Total params: 266,610\n",
            "Trainable params: 266,610\n",
            "Non-trainable params: 0\n",
            "_________________________________________________________________\n"
          ]
        }
      ]
    },
    {
      "cell_type": "markdown",
      "source": [
        "Specifying `activation=\"relu\"` is equivalent to specifying `activation=keras.activations.relu`. for the full list visit [activations](https://keras.io/activations/) , [initializers](https://keras.io/initializers/)\n",
        "\n",
        "Code examples documented on keras.io\n",
        "\n"
      ],
      "metadata": {
        "id": "Wb_y-W9J17vH"
      }
    },
    {
      "cell_type": "code",
      "source": [
        "from tensorflow.keras.layers import Dense\n",
        "output_layer = Dense(10)"
      ],
      "metadata": {
        "id": "HurI5iO9yyDD"
      },
      "execution_count": null,
      "outputs": []
    },
    {
      "cell_type": "markdown",
      "source": [
        "### model.compile"
      ],
      "metadata": {
        "id": "EvAG9z7-4nX7"
      }
    },
    {
      "cell_type": "code",
      "source": [
        "model.compile(loss=\"sparse_categorical_crossentropy\",\n",
        "              optimizer=\"sgd\",\n",
        "              metrics=[\"accuracy\"])"
      ],
      "metadata": {
        "id": "HhLSjnUd2_jo"
      },
      "execution_count": null,
      "outputs": []
    },
    {
      "cell_type": "markdown",
      "source": [
        "Keras will measure the loss and the extra metrics on this set at the end of each epoch, which is very useful to see how well the model really performs."
      ],
      "metadata": {
        "id": "9fB2eoq55zv6"
      }
    },
    {
      "cell_type": "code",
      "source": [
        "history = model.fit(X_train, y_train, epochs=30, validation_data=(X_valid, y_valid))"
      ],
      "metadata": {
        "colab": {
          "base_uri": "https://localhost:8080/"
        },
        "id": "8uGudac_4mgh",
        "outputId": "29e8aa67-59da-46c0-f9f1-46d565562e52"
      },
      "execution_count": null,
      "outputs": [
        {
          "output_type": "stream",
          "name": "stdout",
          "text": [
            "Epoch 1/30\n",
            "1719/1719 [==============================] - 14s 7ms/step - loss: 0.7291 - accuracy: 0.7616 - val_loss: 0.5138 - val_accuracy: 0.8272\n",
            "Epoch 2/30\n",
            "1719/1719 [==============================] - 7s 4ms/step - loss: 0.4922 - accuracy: 0.8289 - val_loss: 0.4598 - val_accuracy: 0.8476\n",
            "Epoch 3/30\n",
            "1719/1719 [==============================] - 7s 4ms/step - loss: 0.4445 - accuracy: 0.8446 - val_loss: 0.4480 - val_accuracy: 0.8470\n",
            "Epoch 4/30\n",
            "1719/1719 [==============================] - 6s 4ms/step - loss: 0.4173 - accuracy: 0.8532 - val_loss: 0.4044 - val_accuracy: 0.8620\n",
            "Epoch 5/30\n",
            "1719/1719 [==============================] - 7s 4ms/step - loss: 0.3968 - accuracy: 0.8606 - val_loss: 0.3872 - val_accuracy: 0.8678\n",
            "Epoch 6/30\n",
            "1719/1719 [==============================] - 6s 4ms/step - loss: 0.3798 - accuracy: 0.8660 - val_loss: 0.4010 - val_accuracy: 0.8598\n",
            "Epoch 7/30\n",
            "1719/1719 [==============================] - 7s 4ms/step - loss: 0.3653 - accuracy: 0.8715 - val_loss: 0.3554 - val_accuracy: 0.8766\n",
            "Epoch 8/30\n",
            "1719/1719 [==============================] - 9s 5ms/step - loss: 0.3537 - accuracy: 0.8747 - val_loss: 0.3644 - val_accuracy: 0.8696\n",
            "Epoch 9/30\n",
            "1719/1719 [==============================] - 7s 4ms/step - loss: 0.3425 - accuracy: 0.8779 - val_loss: 0.3391 - val_accuracy: 0.8794\n",
            "Epoch 10/30\n",
            "1719/1719 [==============================] - 7s 4ms/step - loss: 0.3335 - accuracy: 0.8809 - val_loss: 0.3556 - val_accuracy: 0.8730\n",
            "Epoch 11/30\n",
            "1719/1719 [==============================] - 7s 4ms/step - loss: 0.3256 - accuracy: 0.8836 - val_loss: 0.3367 - val_accuracy: 0.8810\n",
            "Epoch 12/30\n",
            "1719/1719 [==============================] - 7s 4ms/step - loss: 0.3165 - accuracy: 0.8869 - val_loss: 0.3480 - val_accuracy: 0.8778\n",
            "Epoch 13/30\n",
            "1719/1719 [==============================] - 7s 4ms/step - loss: 0.3100 - accuracy: 0.8894 - val_loss: 0.3444 - val_accuracy: 0.8766\n",
            "Epoch 14/30\n",
            "1719/1719 [==============================] - 7s 4ms/step - loss: 0.3031 - accuracy: 0.8922 - val_loss: 0.3276 - val_accuracy: 0.8810\n",
            "Epoch 15/30\n",
            "1719/1719 [==============================] - 6s 4ms/step - loss: 0.2968 - accuracy: 0.8937 - val_loss: 0.3115 - val_accuracy: 0.8880\n",
            "Epoch 16/30\n",
            "1719/1719 [==============================] - 7s 4ms/step - loss: 0.2903 - accuracy: 0.8957 - val_loss: 0.3132 - val_accuracy: 0.8876\n",
            "Epoch 17/30\n",
            "1719/1719 [==============================] - 7s 4ms/step - loss: 0.2845 - accuracy: 0.8982 - val_loss: 0.3225 - val_accuracy: 0.8864\n",
            "Epoch 18/30\n",
            "1719/1719 [==============================] - 6s 4ms/step - loss: 0.2782 - accuracy: 0.9011 - val_loss: 0.3138 - val_accuracy: 0.8870\n",
            "Epoch 19/30\n",
            "1719/1719 [==============================] - 6s 4ms/step - loss: 0.2732 - accuracy: 0.9019 - val_loss: 0.3167 - val_accuracy: 0.8872\n",
            "Epoch 20/30\n",
            "1719/1719 [==============================] - 6s 4ms/step - loss: 0.2680 - accuracy: 0.9028 - val_loss: 0.3128 - val_accuracy: 0.8876\n",
            "Epoch 21/30\n",
            "1719/1719 [==============================] - 6s 4ms/step - loss: 0.2647 - accuracy: 0.9039 - val_loss: 0.3093 - val_accuracy: 0.8846\n",
            "Epoch 22/30\n",
            "1719/1719 [==============================] - 7s 4ms/step - loss: 0.2591 - accuracy: 0.9067 - val_loss: 0.3113 - val_accuracy: 0.8894\n",
            "Epoch 23/30\n",
            "1719/1719 [==============================] - 6s 4ms/step - loss: 0.2542 - accuracy: 0.9076 - val_loss: 0.3127 - val_accuracy: 0.8880\n",
            "Epoch 24/30\n",
            "1719/1719 [==============================] - 6s 4ms/step - loss: 0.2505 - accuracy: 0.9102 - val_loss: 0.3112 - val_accuracy: 0.8920\n",
            "Epoch 25/30\n",
            "1719/1719 [==============================] - 7s 4ms/step - loss: 0.2449 - accuracy: 0.9119 - val_loss: 0.3130 - val_accuracy: 0.8856\n",
            "Epoch 26/30\n",
            "1719/1719 [==============================] - 7s 4ms/step - loss: 0.2421 - accuracy: 0.9137 - val_loss: 0.2940 - val_accuracy: 0.8956\n",
            "Epoch 27/30\n",
            "1719/1719 [==============================] - 7s 4ms/step - loss: 0.2375 - accuracy: 0.9157 - val_loss: 0.3157 - val_accuracy: 0.8860\n",
            "Epoch 28/30\n",
            "1719/1719 [==============================] - 6s 4ms/step - loss: 0.2324 - accuracy: 0.9165 - val_loss: 0.3012 - val_accuracy: 0.8876\n",
            "Epoch 29/30\n",
            "1719/1719 [==============================] - 6s 4ms/step - loss: 0.2291 - accuracy: 0.9185 - val_loss: 0.2906 - val_accuracy: 0.8950\n",
            "Epoch 30/30\n",
            "1719/1719 [==============================] - 6s 4ms/step - loss: 0.2263 - accuracy: 0.9196 - val_loss: 0.2996 - val_accuracy: 0.8922\n"
          ]
        }
      ]
    },
    {
      "cell_type": "code",
      "source": [
        "import pandas as pd\n",
        "import matplotlib.pyplot as plt\n",
        "\n",
        "pd.DataFrame(history.history).plot(figsize=(8, 5))\n",
        "plt.grid(True)\n",
        "plt.gca().set_ylim(0, 1) # set the vertical range to [0-1]\n",
        "plt.show()"
      ],
      "metadata": {
        "colab": {
          "base_uri": "https://localhost:8080/",
          "height": 324
        },
        "id": "kB6vpCZO5cRQ",
        "outputId": "638d84c4-4320-4892-93aa-1cdce81a93cf"
      },
      "execution_count": null,
      "outputs": [
        {
          "output_type": "display_data",
          "data": {
            "image/png": "[encoded data removed]",
            "text/plain": [
              "<Figure size 576x360 with 1 Axes>"
            ]
          },
          "metadata": {
            "needs_background": "light"
          }
        }
      ]
    },
    {
      "cell_type": "markdown",
      "source": [
        "both the training accuracy and the validation accuracy steadily increase during training, while the training loss and the validation loss decrease. Good! Moreover, the validation curves are close to the training curves, which means that there is not too much overfitting. "
      ],
      "metadata": {
        "id": "8TE-N5OQRSEM"
      }
    },
    {
      "cell_type": "code",
      "source": [
        ""
      ],
      "metadata": {
        "id": "VQ_qF-fc7Y9v"
      },
      "execution_count": null,
      "outputs": []
    },
    {
      "cell_type": "markdown",
      "source": [
        "### Building Complex Models Using the Functional API\n",
        "\n",
        "*  nonsequential neural network is a Wide & Deep neural network"
      ],
      "metadata": {
        "id": "cifU5hy7RRkj"
      }
    },
    {
      "cell_type": "code",
      "source": [
        "from sklearn.datasets import fetch_california_housing\n",
        "from sklearn.model_selection import train_test_split\n",
        "from sklearn.preprocessing import StandardScaler\n",
        "\n",
        "housing = fetch_california_housing()\n",
        "\n",
        "X_train_full, X_test, y_train_full, y_test = train_test_split(\n",
        "    housing.data, housing.target)\n",
        "X_train, X_valid, y_train, y_valid = train_test_split(\n",
        "    X_train_full, y_train_full)\n",
        "\n",
        "scaler = StandardScaler()\n",
        "X_train = scaler.fit_transform(X_train)\n",
        "X_valid = scaler.transform(X_valid)\n",
        "X_test = scaler.transform(X_test)"
      ],
      "metadata": {
        "id": "UO5CBTl7Yq4v"
      },
      "execution_count": null,
      "outputs": []
    },
    {
      "cell_type": "code",
      "source": [
        "#First, we need to create an Input object.This is a specification of the kind of input(multiple inputs) the model will get, including its shape and dtype.\n",
        "input_ = keras.layers.Input(shape=X_train.shape[1:])\n",
        "\n",
        "#Dense layer & ReLU activation function.\n",
        "#we call it like a function, passing it the input. This is why this is called the Functional API. \n",
        "#Note that we are just telling Keras how it should connect the layers together, no actual data is being processed yet.\n",
        "hidden1 = keras.layers.Dense(30, activation=\"relu\")(input_)\n",
        "\n",
        "#second hidden layer, and again we use it as a function. Note that we pass it the output of the first hidden layer.\n",
        "hidden2 = keras.layers.Dense(30, activation=\"relu\")(hidden1)\n",
        "\n",
        "\n",
        "#created a Concatenate layer as function, to concatenate the input and the output of the second hidden layer.\n",
        "#You may prefer the keras.layers.concatenate() function, which creates a Concatenate layer and immediately calls it with the given inputs.\n",
        "concat = keras.layers.Concatenate()([input_, hidden2])\n",
        "\n",
        "#passing it the result of the concatenation.\n",
        "output = keras.layers.Dense(1)(concat)\n",
        "\n",
        "#Keras Model, specifying which inputs and outputs\n",
        "model = keras.Model(inputs=[input_], outputs=[output])"
      ],
      "metadata": {
        "id": "5wT2EZUMRUSS"
      },
      "execution_count": null,
      "outputs": []
    },
    {
      "cell_type": "markdown",
      "source": [
        "compile the model, train it, evaluate it, and use it to make predictions."
      ],
      "metadata": {
        "id": "EsqwRsHDUuKi"
      }
    },
    {
      "cell_type": "code",
      "source": [
        "input_A = keras.layers.Input(shape=[5], name=\"wide_input\")\n",
        "input_B = keras.layers.Input(shape=[6], name=\"deep_input\")\n",
        "hidden1 = keras.layers.Dense(30, activation=\"relu\")(input_B)\n",
        "hidden2 = keras.layers.Dense(30, activation=\"relu\")(hidden1)\n",
        "concat = keras.layers.concatenate([input_A, hidden2])\n",
        "output = keras.layers.Dense(1, name=\"output\")(concat)\n",
        "model = keras.Model(inputs=[input_A, input_B], outputs=[output])"
      ],
      "metadata": {
        "id": "21RthY9kUuhb"
      },
      "execution_count": null,
      "outputs": []
    },
    {
      "cell_type": "code",
      "source": [
        "model.compile(loss=\"mse\", optimizer=keras.optimizers.SGD(lr=1e-3))\n",
        "\n",
        "X_train_A, X_train_B = X_train[:, :5], X_train[:, 2:]\n",
        "X_valid_A, X_valid_B = X_valid[:, :5], X_valid[:, 2:]\n",
        "X_test_A, X_test_B = X_test[:, :5], X_test[:, 2:]\n",
        "X_new_A, X_new_B = X_test_A[:3], X_test_B[:3]\n",
        "\n",
        "history = model.fit((X_train_A, X_train_B), y_train, epochs=20,\n",
        "                    validation_data=((X_valid_A, X_valid_B), y_valid))\n",
        "mse_test = model.evaluate((X_test_A, X_test_B), y_test)\n",
        "y_pred = model.predict((X_new_A, X_new_B))\n"
      ],
      "metadata": {
        "colab": {
          "base_uri": "https://localhost:8080/"
        },
        "id": "KsIxZu7KYRXX",
        "outputId": "1cff2f93-8ac0-4367-ccaa-5d894a2a908e"
      },
      "execution_count": null,
      "outputs": [
        {
          "output_type": "stream",
          "name": "stdout",
          "text": [
            "Epoch 1/20\n"
          ]
        },
        {
          "output_type": "stream",
          "name": "stderr",
          "text": [
            "/usr/local/lib/python3.7/dist-packages/keras/optimizer_v2/gradient_descent.py:102: UserWarning: The `lr` argument is deprecated, use `learning_rate` instead.\n",
            "  super(SGD, self).__init__(name, **kwargs)\n"
          ]
        },
        {
          "output_type": "stream",
          "name": "stdout",
          "text": [
            "363/363 [==============================] - 2s 2ms/step - loss: 2.1980 - val_loss: 1.3932\n",
            "Epoch 2/20\n",
            "363/363 [==============================] - 1s 2ms/step - loss: 0.8284 - val_loss: 0.7802\n",
            "Epoch 3/20\n",
            "363/363 [==============================] - 1s 2ms/step - loss: 0.7077 - val_loss: 0.6841\n",
            "Epoch 4/20\n",
            "363/363 [==============================] - 1s 2ms/step - loss: 0.6655 - val_loss: 0.6514\n",
            "Epoch 5/20\n",
            "363/363 [==============================] - 1s 2ms/step - loss: 0.6377 - val_loss: 0.6293\n",
            "Epoch 6/20\n",
            "363/363 [==============================] - 1s 2ms/step - loss: 0.6157 - val_loss: 0.6088\n",
            "Epoch 7/20\n",
            "363/363 [==============================] - 1s 2ms/step - loss: 0.5975 - val_loss: 0.5967\n",
            "Epoch 8/20\n",
            "363/363 [==============================] - 1s 2ms/step - loss: 0.5822 - val_loss: 0.5821\n",
            "Epoch 9/20\n",
            "363/363 [==============================] - 1s 2ms/step - loss: 0.5691 - val_loss: 0.5742\n",
            "Epoch 10/20\n",
            "363/363 [==============================] - 1s 2ms/step - loss: 0.5581 - val_loss: 0.5616\n",
            "Epoch 11/20\n",
            "363/363 [==============================] - 1s 2ms/step - loss: 0.5481 - val_loss: 0.5520\n",
            "Epoch 12/20\n",
            "363/363 [==============================] - 1s 2ms/step - loss: 0.5394 - val_loss: 0.5485\n",
            "Epoch 13/20\n",
            "363/363 [==============================] - 1s 2ms/step - loss: 0.5316 - val_loss: 0.5438\n",
            "Epoch 14/20\n",
            "363/363 [==============================] - 1s 2ms/step - loss: 0.5236 - val_loss: 0.5368\n",
            "Epoch 15/20\n",
            "363/363 [==============================] - 1s 2ms/step - loss: 0.5183 - val_loss: 0.5258\n",
            "Epoch 16/20\n",
            "363/363 [==============================] - 1s 4ms/step - loss: 0.5127 - val_loss: 0.5200\n",
            "Epoch 17/20\n",
            "363/363 [==============================] - 2s 5ms/step - loss: 0.5077 - val_loss: 0.5191\n",
            "Epoch 18/20\n",
            "363/363 [==============================] - 2s 6ms/step - loss: 0.5019 - val_loss: 0.5193\n",
            "Epoch 19/20\n",
            "363/363 [==============================] - 2s 4ms/step - loss: 0.4996 - val_loss: 0.5058\n",
            "Epoch 20/20\n",
            "363/363 [==============================] - 2s 4ms/step - loss: 0.4943 - val_loss: 0.5061\n",
            "162/162 [==============================] - 1s 3ms/step - loss: 0.4902\n"
          ]
        }
      ]
    },
    {
      "cell_type": "code",
      "source": [
        "output = keras.layers.Dense(1, name=\"main_output\")(concat)\n",
        "aux_output = keras.layers.Dense(1, name=\"aux_output\")(hidden2)\n",
        "model = keras.Model(inputs=[input_A, input_B], outputs=[output, aux_output])"
      ],
      "metadata": {
        "id": "U93J8u5Meg9X"
      },
      "execution_count": null,
      "outputs": []
    },
    {
      "cell_type": "code",
      "source": [
        "model.compile(loss=[\"mse\", \"mse\"], loss_weights=[0.9, 0.1], optimizer=\"sgd\")"
      ],
      "metadata": {
        "id": "9Ng9zbmWegxV"
      },
      "execution_count": null,
      "outputs": []
    },
    {
      "cell_type": "code",
      "source": [
        "history = model.fit(\n",
        "    [X_train_A, X_train_B], [y_train, y_train], epochs=20,\n",
        "    validation_data=([X_valid_A, X_valid_B], [y_valid, y_valid]))"
      ],
      "metadata": {
        "colab": {
          "base_uri": "https://localhost:8080/"
        },
        "id": "l3awAqlFew5d",
        "outputId": "d4074f66-6835-4f2d-f614-cb0a6db45132"
      },
      "execution_count": null,
      "outputs": [
        {
          "output_type": "stream",
          "name": "stdout",
          "text": [
            "Epoch 1/20\n",
            "363/363 [==============================] - 2s 3ms/step - loss: 0.7669 - main_output_loss: 0.6513 - aux_output_loss: 1.8070 - val_loss: 0.6208 - val_main_output_loss: 0.5612 - val_aux_output_loss: 1.1570\n",
            "Epoch 2/20\n",
            "363/363 [==============================] - 1s 2ms/step - loss: 0.5485 - main_output_loss: 0.4938 - aux_output_loss: 1.0409 - val_loss: 0.7159 - val_main_output_loss: 0.6904 - val_aux_output_loss: 0.9457\n",
            "Epoch 3/20\n",
            "363/363 [==============================] - 1s 2ms/step - loss: 0.5203 - main_output_loss: 0.4776 - aux_output_loss: 0.9046 - val_loss: 0.5091 - val_main_output_loss: 0.4687 - val_aux_output_loss: 0.8733\n",
            "Epoch 4/20\n",
            "363/363 [==============================] - 1s 2ms/step - loss: 0.4758 - main_output_loss: 0.4381 - aux_output_loss: 0.8151 - val_loss: 0.4965 - val_main_output_loss: 0.4640 - val_aux_output_loss: 0.7892\n",
            "Epoch 5/20\n",
            "363/363 [==============================] - 1s 2ms/step - loss: 0.4659 - main_output_loss: 0.4340 - aux_output_loss: 0.7528 - val_loss: 0.4562 - val_main_output_loss: 0.4254 - val_aux_output_loss: 0.7335\n",
            "Epoch 6/20\n",
            "363/363 [==============================] - 1s 2ms/step - loss: 0.4529 - main_output_loss: 0.4238 - aux_output_loss: 0.7151 - val_loss: 0.4440 - val_main_output_loss: 0.4152 - val_aux_output_loss: 0.7027\n",
            "Epoch 7/20\n",
            "363/363 [==============================] - 1s 2ms/step - loss: 0.4386 - main_output_loss: 0.4114 - aux_output_loss: 0.6838 - val_loss: 0.4519 - val_main_output_loss: 0.4273 - val_aux_output_loss: 0.6735\n",
            "Epoch 8/20\n",
            "363/363 [==============================] - 1s 2ms/step - loss: 0.4322 - main_output_loss: 0.4067 - aux_output_loss: 0.6614 - val_loss: 0.4234 - val_main_output_loss: 0.3984 - val_aux_output_loss: 0.6489\n",
            "Epoch 9/20\n",
            "363/363 [==============================] - 1s 2ms/step - loss: 0.4337 - main_output_loss: 0.4094 - aux_output_loss: 0.6526 - val_loss: 0.4389 - val_main_output_loss: 0.4173 - val_aux_output_loss: 0.6332\n",
            "Epoch 10/20\n",
            "363/363 [==============================] - 1s 2ms/step - loss: 0.4175 - main_output_loss: 0.3938 - aux_output_loss: 0.6305 - val_loss: 0.4225 - val_main_output_loss: 0.4005 - val_aux_output_loss: 0.6202\n",
            "Epoch 11/20\n",
            "363/363 [==============================] - 1s 2ms/step - loss: 0.4194 - main_output_loss: 0.3974 - aux_output_loss: 0.6173 - val_loss: 0.4187 - val_main_output_loss: 0.3970 - val_aux_output_loss: 0.6144\n",
            "Epoch 12/20\n",
            "363/363 [==============================] - 1s 2ms/step - loss: 0.4228 - main_output_loss: 0.4025 - aux_output_loss: 0.6056 - val_loss: 0.4056 - val_main_output_loss: 0.3846 - val_aux_output_loss: 0.5947\n",
            "Epoch 13/20\n",
            "363/363 [==============================] - 1s 2ms/step - loss: 0.4026 - main_output_loss: 0.3812 - aux_output_loss: 0.5950 - val_loss: 0.4118 - val_main_output_loss: 0.3921 - val_aux_output_loss: 0.5888\n",
            "Epoch 14/20\n",
            "363/363 [==============================] - 1s 2ms/step - loss: 0.3940 - main_output_loss: 0.3733 - aux_output_loss: 0.5804 - val_loss: 0.4036 - val_main_output_loss: 0.3852 - val_aux_output_loss: 0.5690\n",
            "Epoch 15/20\n",
            "363/363 [==============================] - 1s 2ms/step - loss: 0.3916 - main_output_loss: 0.3714 - aux_output_loss: 0.5742 - val_loss: 0.3810 - val_main_output_loss: 0.3612 - val_aux_output_loss: 0.5586\n",
            "Epoch 16/20\n",
            "363/363 [==============================] - 1s 2ms/step - loss: 0.3847 - main_output_loss: 0.3653 - aux_output_loss: 0.5592 - val_loss: 0.4336 - val_main_output_loss: 0.4204 - val_aux_output_loss: 0.5524\n",
            "Epoch 17/20\n",
            "363/363 [==============================] - 1s 2ms/step - loss: 0.3840 - main_output_loss: 0.3655 - aux_output_loss: 0.5512 - val_loss: 0.3985 - val_main_output_loss: 0.3822 - val_aux_output_loss: 0.5454\n",
            "Epoch 18/20\n",
            "363/363 [==============================] - 1s 2ms/step - loss: 0.3851 - main_output_loss: 0.3675 - aux_output_loss: 0.5434 - val_loss: 0.4409 - val_main_output_loss: 0.4281 - val_aux_output_loss: 0.5556\n",
            "Epoch 19/20\n",
            "363/363 [==============================] - 1s 2ms/step - loss: 0.4142 - main_output_loss: 0.3975 - aux_output_loss: 0.5648 - val_loss: 0.4035 - val_main_output_loss: 0.3872 - val_aux_output_loss: 0.5503\n",
            "Epoch 20/20\n",
            "363/363 [==============================] - 1s 2ms/step - loss: 0.3890 - main_output_loss: 0.3720 - aux_output_loss: 0.5422 - val_loss: 0.3748 - val_main_output_loss: 0.3586 - val_aux_output_loss: 0.5206\n"
          ]
        }
      ]
    },
    {
      "cell_type": "code",
      "source": [
        "#When we evaluate the model, Keras will return the total loss, as well as all the individual losses:\n",
        "\n",
        "total_loss, main_loss, aux_loss = model.evaluate(\n",
        "    [X_test_A, X_test_B], [y_test, y_test])\n"
      ],
      "metadata": {
        "colab": {
          "base_uri": "https://localhost:8080/"
        },
        "id": "Sz3qmCEdew0G",
        "outputId": "10843902-1ab3-4ddc-ccd7-81344d1d3f57"
      },
      "execution_count": null,
      "outputs": [
        {
          "output_type": "stream",
          "name": "stdout",
          "text": [
            "162/162 [==============================] - 0s 1ms/step - loss: 0.3812 - main_output_loss: 0.3652 - aux_output_loss: 0.5258\n"
          ]
        }
      ]
    },
    {
      "cell_type": "code",
      "source": [
        "#Similarly, the predict() method will return predictions for each output:\n",
        "\n",
        "y_pred_main, y_pred_aux = model.predict([X_new_A, X_new_B])\n",
        "y_pred_main, y_pred_aux"
      ],
      "metadata": {
        "colab": {
          "base_uri": "https://localhost:8080/"
        },
        "id": "hIq3VP5zewuv",
        "outputId": "f06496d9-b2e3-49aa-9dc7-ad2ca83d0e5a"
      },
      "execution_count": null,
      "outputs": [
        {
          "output_type": "execute_result",
          "data": {
            "text/plain": [
              "(array([[2.8578284 ],\n",
              "        [0.45430085],\n",
              "        [1.4380919 ]], dtype=float32), array([[3.0577278],\n",
              "        [0.7453272],\n",
              "        [1.4685725]], dtype=float32))"
            ]
          },
          "metadata": {},
          "execution_count": 23
        }
      ]
    },
    {
      "cell_type": "markdown",
      "source": [
        "## Building SubClasses"
      ],
      "metadata": {
        "id": "ob2Qng7QTN_Y"
      }
    },
    {
      "cell_type": "code",
      "source": [
        "class WideandDeep(keras.Model):\n",
        "  def __init__(self,units = 30 ,activation = 'relu',**kwargs):\n",
        "      super().__init__(**kwargs)\n",
        "      self.hidden1 = keras.layers.Dense(units,activation=activation)\n",
        "      self.hidden2 = keras.layers.Dense(units,activation=activation)\n",
        "      self.output  = keras.layer.Dense(1)\n",
        "      self.aux_otp = keras.layer.Dense(1)\n",
        "  \n",
        "  def call(self,inputs):\n",
        "    inA,inB = inputs\n",
        "    hidden1 = self.hidden1(inB)\n",
        "    hidden2 = self.hidden2(hidden1)\n",
        "    aux_otp = self.aux_otp(hidden2)\n",
        "    concat =  keras.layers.concatenate([inA,inB])\n",
        "    output =  self.output(concat)\n",
        "    return output,aux_otp"
      ],
      "metadata": {
        "id": "j5RDQ564fDey"
      },
      "execution_count": 3,
      "outputs": []
    },
    {
      "cell_type": "markdown",
      "source": [
        "#### Saving and Restoring\n",
        "> model = keras.models.Sequential([...]) # or keras.Model([...])\n",
        "\n",
        "> model.compile([...])\n",
        "\n",
        "> model.fit([...])\n",
        "\n",
        "* Keras will use the HDF5 format to save both the model’s architecture\n",
        "> model.save(\"keras_model.h5\")\n",
        "\n",
        "* Loading the model\n",
        "> model = keras.models.load_model(\"keras_model.h5\")"
      ],
      "metadata": {
        "id": "hlkIwfwPVt9I"
      }
    },
    {
      "cell_type": "markdown",
      "source": [
        "### Using Callbacks\n",
        "* If you use a validation set during training, you can set save_best_only=True when creating the ModelCheckpoint. In this case, it will only save your model when its performance on the validation set is the best so far."
      ],
      "metadata": {
        "id": "d6XTNWkYWg1h"
      }
    },
    {
      "cell_type": "code",
      "source": [
        "checkpoint_cb = keras.callbacks.ModelCheckpoint(\"keras_model.h5\",save_best_only=True)\n",
        "\n",
        "history = model.fit(X_train, y_train, epochs=10,\n",
        "                    validation_data=(X_valid, y_valid),\n",
        "                    callbacks=[checkpoint_cb])\n",
        "model = keras.models.load_model(\"keras_model.h5\") # roll back to best model\n",
        "\n",
        "#                               __-----or-----__\n",
        "\n",
        "# Another way to implement early stopping\n",
        "early_stopping_cb = keras.callbacks.EarlyStopping(patience=10,restore_best_weights=True)\n",
        "\n",
        "history = model.fit(X_train, y_train, epochs=100,\n",
        "                    validation_data=(X_valid, y_valid),\n",
        "                    callbacks=[checkpoint_cb, early_stopping_cb])"
      ],
      "metadata": {
        "id": "dVkrcBVcVrgY"
      },
      "execution_count": null,
      "outputs": []
    },
    {
      "cell_type": "markdown",
      "source": [
        "## Fine-Tuning Neural Network Hyperparameters\n",
        "* Use GridSearchCV or RandomizedSearchCV to explore the hyperparameter space. To do this, we need to wrap our Keras models in objects that mimic regular Scikit-Learn regressors. The first step is to create a function that will build and compile a Keras model, given a set of hyperparameters:"
      ],
      "metadata": {
        "id": "DFUr1FhzXy3L"
      }
    },
    {
      "cell_type": "code",
      "source": [
        "def build_model(n_hidden=1, n_neurons=30, learning_rate=3e-3, input_shape=[8]):\n",
        "    model = keras.models.Sequential()\n",
        "    model.add(keras.layers.InputLayer(input_shape=input_shape))\n",
        "    for layer in range(n_hidden):\n",
        "        model.add(keras.layers.Dense(n_neurons, activation=\"relu\"))\n",
        "    model.add(keras.layers.Dense(1))\n",
        "    optimizer = keras.optimizers.SGD(lr=learning_rate)\n",
        "    model.compile(loss=\"mse\", optimizer=optimizer)\n",
        "    return model\n",
        "\n",
        "keras_reg = keras.wrappers.scikit_learn.KerasRegressor(build_model)\n",
        "\n",
        "\n",
        "keras_reg.fit(X_train, y_train, epochs=100,\n",
        "              validation_data=(X_valid, y_valid),\n",
        "              callbacks=[keras.callbacks.EarlyStopping(patience=10)])\n",
        "mse_test = keras_reg.score(X_test, y_test)\n",
        "y_pred = keras_reg.predict(X_new)\n",
        "\n",
        "\n",
        "from scipy.stats import reciprocal\n",
        "from sklearn.model_selection import RandomizedSearchCV\n",
        "\n",
        "param_distribs = {\n",
        "    \"n_hidden\": [0, 1, 2, 3],\n",
        "    \"n_neurons\": np.arange(1, 100),\n",
        "    \"learning_rate\": reciprocal(3e-4, 3e-2),\n",
        "}\n",
        "\n",
        "rnd_search_cv = RandomizedSearchCV(keras_reg, param_distribs, n_iter=10, cv=3)\n",
        "rnd_search_cv.fit(X_train, y_train, epochs=100,\n",
        "                  validation_data=(X_valid, y_valid),\n",
        "                  callbacks=[keras.callbacks.EarlyStopping(patience=10)])"
      ],
      "metadata": {
        "id": "xvbjYmi-XzgN"
      },
      "execution_count": null,
      "outputs": []
    }
  ]
}