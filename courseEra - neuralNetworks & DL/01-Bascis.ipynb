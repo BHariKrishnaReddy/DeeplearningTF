{
 "cells": [
  {
   "cell_type": "code",
   "execution_count": 2,
   "id": "5cc8cb44-ec8c-4c8d-818b-0df8ca45f26f",
   "metadata": {},
   "outputs": [
    {
     "data": {
      "text/plain": [
       "array([1, 3, 5, 7, 9])"
      ]
     },
     "execution_count": 2,
     "metadata": {},
     "output_type": "execute_result"
    }
   ],
   "source": [
    "import numpy as np\n",
    "a= np.array([1,3,5,7,9])\n",
    "a"
   ]
  },
  {
   "cell_type": "code",
   "execution_count": 15,
   "id": "ad35e98f-ad88-41de-91ff-1b9c9b2dad0f",
   "metadata": {},
   "outputs": [
    {
     "name": "stdout",
     "output_type": "stream",
     "text": [
      "2500415.5221025385\n",
      "Vectorized calculation time = 6.924867630004883ms\n",
      "2500415.5221027466\n",
      "Normla calculation time = 1678.0807971954346ms\n"
     ]
    }
   ],
   "source": [
    "import time\n",
    "a = np.random.rand(10000000)\n",
    "b = np.random.rand(10000000)\n",
    "\n",
    "tic = time.time()\n",
    "c = np.dot(a,b)\n",
    "toc = time.time()\n",
    "\n",
    "print(c)\n",
    "print(\"Vectorized calculation time = \"+str(1000*(toc-tic)) + \"ms\")\n",
    "\n",
    "c=0\n",
    "tic = time.time()\n",
    "for i in range(10000000):\n",
    "    c+=a[i]*b[i]\n",
    "toc = time.time()\n",
    "\n",
    "print(c)\n",
    "print(\"Normla calculation time = \"+str(1000*(toc-tic)) + \"ms\")"
   ]
  },
  {
   "cell_type": "markdown",
   "id": "b075443a-8c44-42ce-a0cb-53652d3fafc5",
   "metadata": {},
   "source": [
    "#### broadcasting"
   ]
  },
  {
   "cell_type": "code",
   "execution_count": 29,
   "id": "cad89148-d93f-4774-b598-95ab3266c5fc",
   "metadata": {},
   "outputs": [
    {
     "name": "stdout",
     "output_type": "stream",
     "text": [
      "A (3, 4) \n",
      " [[ 56.    0.    4.4  68. ]\n",
      " [  1.2 104.   52.    8. ]\n",
      " [  1.8 135.   99.    0.9]] \n",
      "\n",
      "cal  (4,) \n",
      " [ 59.  239.  155.4  76.9] \n",
      "\n",
      "percentage  (3, 4) \n",
      " [[94.91525424  0.          2.83140283 88.42652796]\n",
      " [ 2.03389831 43.51464435 33.46203346 10.40312094]\n",
      " [ 3.05084746 56.48535565 63.70656371  1.17035111]] \n",
      "\n"
     ]
    }
   ],
   "source": [
    "import numpy as np\n",
    "A = np.array([[56.0, 0.0, 4.4, 68.0],\n",
    "              [1.2, 104.0,52.0,8.0],\n",
    "              [1.8,135.0,99.0,0.9]])\n",
    "print(\"A\", A.shape, \"\\n\",A, \"\\n\")\n",
    "\n",
    "cal = A.sum(axis=0) # sum vertically for horizontal use axis = 1\n",
    "print(\"cal \",cal.shape, \"\\n\", cal , \"\\n\")\n",
    "\n",
    "#broadcasting\n",
    "# A is 3*4 dim, and cal is 1*4. so we can use only 100*(A/cal) using .reshape reassures us      \n",
    "per = 100*(A/cal.reshape(1,4)) \n",
    "print(\"percentage \",per.shape, \"\\n\", per , \"\\n\")"
   ]
  },
  {
   "cell_type": "markdown",
   "id": "28b0fe4a-dec8-4ce2-9e03-346a50429f47",
   "metadata": {},
   "source": [
    "These errors are to learn ! "
   ]
  },
  {
   "cell_type": "code",
   "execution_count": 50,
   "id": "ef558c65-1ec0-4be8-9594-dc16b81a7c24",
   "metadata": {},
   "outputs": [
    {
     "ename": "ValueError",
     "evalue": "operands could not be broadcast together with shapes (4,3) (3,2) ",
     "output_type": "error",
     "traceback": [
      "\u001b[0;31m---------------------------------------------------------------------------\u001b[0m",
      "\u001b[0;31mValueError\u001b[0m                                Traceback (most recent call last)",
      "Cell \u001b[0;32mIn[50], line 3\u001b[0m\n\u001b[1;32m      1\u001b[0m a \u001b[38;5;241m=\u001b[39m np\u001b[38;5;241m.\u001b[39mrandom\u001b[38;5;241m.\u001b[39mrandn(\u001b[38;5;241m4\u001b[39m,\u001b[38;5;241m3\u001b[39m)\n\u001b[1;32m      2\u001b[0m b \u001b[38;5;241m=\u001b[39m np\u001b[38;5;241m.\u001b[39mrandom\u001b[38;5;241m.\u001b[39mrandn(\u001b[38;5;241m3\u001b[39m,\u001b[38;5;241m2\u001b[39m)\n\u001b[0;32m----> 3\u001b[0m c\u001b[38;5;241m=\u001b[39m\u001b[43ma\u001b[49m\u001b[38;5;241;43m*\u001b[39;49m\u001b[43mb\u001b[49m\n\u001b[1;32m      4\u001b[0m \u001b[38;5;28mprint\u001b[39m(c)\n\u001b[1;32m      5\u001b[0m c\u001b[38;5;241m.\u001b[39mshape\n",
      "\u001b[0;31mValueError\u001b[0m: operands could not be broadcast together with shapes (4,3) (3,2) "
     ]
    }
   ],
   "source": [
    "a = np.random.randn(4,3)\n",
    "b = np.random.randn(3,2)\n",
    "c=a*b\n",
    "print(c)\n",
    "c.shape"
   ]
  },
  {
   "cell_type": "code",
   "execution_count": 45,
   "id": "743678ec-9c84-4439-8b40-ab2c1979a886",
   "metadata": {},
   "outputs": [],
   "source": [
    "a = np.random.randn(1,3)\n",
    "b = np.random.randn(3,3)\n",
    "c=a*b"
   ]
  },
  {
   "cell_type": "code",
   "execution_count": 49,
   "id": "c4791889-fe97-48f6-b9fe-cc7cad44d86c",
   "metadata": {},
   "outputs": [
    {
     "ename": "ValueError",
     "evalue": "operands could not be broadcast together with shapes (3,3) (2,1) ",
     "output_type": "error",
     "traceback": [
      "\u001b[0;31m---------------------------------------------------------------------------\u001b[0m",
      "\u001b[0;31mValueError\u001b[0m                                Traceback (most recent call last)",
      "Cell \u001b[0;32mIn[49], line 3\u001b[0m\n\u001b[1;32m      1\u001b[0m a \u001b[38;5;241m=\u001b[39m np\u001b[38;5;241m.\u001b[39mrandom\u001b[38;5;241m.\u001b[39mrandn(\u001b[38;5;241m3\u001b[39m,\u001b[38;5;241m3\u001b[39m)\n\u001b[1;32m      2\u001b[0m b \u001b[38;5;241m=\u001b[39m np\u001b[38;5;241m.\u001b[39mrandom\u001b[38;5;241m.\u001b[39mrandn(\u001b[38;5;241m2\u001b[39m,\u001b[38;5;241m1\u001b[39m)\n\u001b[0;32m----> 3\u001b[0m c\u001b[38;5;241m=\u001b[39m\u001b[43ma\u001b[49m\u001b[38;5;241;43m+\u001b[39;49m\u001b[43mb\u001b[49m\n\u001b[1;32m      4\u001b[0m c\u001b[38;5;241m.\u001b[39mshape\n",
      "\u001b[0;31mValueError\u001b[0m: operands could not be broadcast together with shapes (3,3) (2,1) "
     ]
    }
   ],
   "source": [
    "a = np.random.randn(3,3)\n",
    "b = np.random.randn(2,1)\n",
    "c=a+b\n",
    "c.shape"
   ]
  },
  {
   "cell_type": "code",
   "execution_count": 31,
   "id": "1ad62125-2656-407f-b49d-3d711ca57343",
   "metadata": {},
   "outputs": [
    {
     "data": {
      "text/plain": [
       "array([[-1.39561945,  0.26895105,  1.16629278],\n",
       "       [ 1.83968735,  0.55559981,  1.15265102]])"
      ]
     },
     "execution_count": 31,
     "metadata": {},
     "output_type": "execute_result"
    }
   ],
   "source": [
    "c"
   ]
  },
  {
   "cell_type": "code",
   "execution_count": 36,
   "id": "797edda7-87b1-4abd-b95d-bedd2446a886",
   "metadata": {},
   "outputs": [
    {
     "data": {
      "text/plain": [
       "array([[ 5,  5],\n",
       "       [ 5, 10]])"
      ]
     },
     "execution_count": 36,
     "metadata": {},
     "output_type": "execute_result"
    }
   ],
   "source": [
    "a = np.array([[2,1],[1,3]])\n",
    "c = np.dot(a,a)\n",
    "c"
   ]
  },
  {
   "cell_type": "code",
   "execution_count": 40,
   "id": "b1b302e8-95eb-412b-9dc0-aeba7e1c3cd5",
   "metadata": {},
   "outputs": [],
   "source": [
    "x = np.random.randn(8,1)"
   ]
  },
  {
   "cell_type": "code",
   "execution_count": 42,
   "id": "b522d22b-8531-451c-8c72-63802305f9a4",
   "metadata": {},
   "outputs": [
    {
     "data": {
      "text/plain": [
       "array([[[-0.21687289,  0.63108679],\n",
       "        [-0.98769475,  1.45147055]],\n",
       "\n",
       "       [[ 0.50549608,  0.58161685],\n",
       "        [ 1.35296657, -0.40214051]]])"
      ]
     },
     "execution_count": 42,
     "metadata": {},
     "output_type": "execute_result"
    }
   ],
   "source": [
    "x.reshape(2,2,2)"
   ]
  },
  {
   "cell_type": "code",
   "execution_count": 52,
   "id": "e028a223-e05d-405b-932b-4eb68da938ee",
   "metadata": {},
   "outputs": [
    {
     "data": {
      "text/plain": [
       "array([[3, 3],\n",
       "       [4, 2]])"
      ]
     },
     "execution_count": 52,
     "metadata": {},
     "output_type": "execute_result"
    }
   ],
   "source": [
    "a = np.array([[1,1],[1,-1]])\n",
    "b = np.array([[2],[3]])\n",
    "c = a+b\n",
    "c"
   ]
  },
  {
   "cell_type": "markdown",
   "id": "470d35c0-fad8-4664-9134-939e9f2e275c",
   "metadata": {},
   "source": [
    "<img href=\"https://www.google.co.in/imgres?imgurl=https%3A%2F%2Fupload.wikimedia.org%2Fwikipedia%2Fcommons%2Fthumb%2F9%2F99%2FNeural_network_example.svg%2F1200px-Neural_network_example.svg.png&tbnid=WGaLD4eL1CCBwM&vet=12ahUKEwiU176AkrSDAxWBxskDHQpBAL8QMygAegQIARBd..i&imgrefurl=https%3A%2F%2Fen.wikipedia.org%2Fwiki%2FNeural_network&docid=4uDq4ZiJWlnL0M&w=1200&h=1600&q=basic%20neural%20network&client=safari&ved=2ahUKEwiU176AkrSDAxWBxskDHQpBAL8QMygAegQIARBd\">"
   ]
  },
  {
   "cell_type": "code",
   "execution_count": 57,
   "id": "fbb636d5-7d44-4987-b877-27872c177517",
   "metadata": {},
   "outputs": [
    {
     "data": {
      "text/plain": [
       "(1, 2)"
      ]
     },
     "execution_count": 57,
     "metadata": {},
     "output_type": "execute_result"
    }
   ],
   "source": [
    "x = np.random.rand(3, 2)\n",
    "\n",
    "y = np.sum(x, axis=0, keepdims=True)\n",
    "y.shape"
   ]
  },
  {
   "cell_type": "code",
   "execution_count": 58,
   "id": "6fdd25f4-1e4c-4ffe-ae8e-0996e4ba030b",
   "metadata": {},
   "outputs": [],
   "source": [
    "A = np.random.randn(4,3)\n",
    "\n",
    "B = np.sum(A, axis = 1, keepdims = True) "
   ]
  },
  {
   "cell_type": "code",
   "execution_count": 59,
   "id": "84d7ef48-fbb6-4ac2-8200-f4886b5807a6",
   "metadata": {},
   "outputs": [
    {
     "data": {
      "text/plain": [
       "(4, 1)"
      ]
     },
     "execution_count": 59,
     "metadata": {},
     "output_type": "execute_result"
    }
   ],
   "source": [
    "B.shape"
   ]
  },
  {
   "cell_type": "code",
   "execution_count": null,
   "id": "a508a12e-3bb3-4c73-b25d-be369bc68c0e",
   "metadata": {},
   "outputs": [],
   "source": []
  }
 ],
 "metadata": {
  "kernelspec": {
   "display_name": "dptf",
   "language": "python",
   "name": "dptf"
  },
  "language_info": {
   "codemirror_mode": {
    "name": "ipython",
    "version": 3
   },
   "file_extension": ".py",
   "mimetype": "text/x-python",
   "name": "python",
   "nbconvert_exporter": "python",
   "pygments_lexer": "ipython3",
   "version": "3.9.18"
  }
 },
 "nbformat": 4,
 "nbformat_minor": 5
}
